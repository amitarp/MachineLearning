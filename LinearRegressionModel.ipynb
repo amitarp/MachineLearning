{
 "cells": [
  {
   "cell_type": "markdown",
   "id": "ffee8bf0",
   "metadata": {},
   "source": [
    "### Building a Simple Python learning Program"
   ]
  },
  {
   "cell_type": "markdown",
   "id": "f63934e8",
   "metadata": {},
   "source": [
    "### Linear Regression Model"
   ]
  },
  {
   "cell_type": "markdown",
   "id": "1a6363b1",
   "metadata": {},
   "source": [
    "#### Importing the libraries"
   ]
  },
  {
   "cell_type": "code",
   "execution_count": 1,
   "id": "ed0cafb6",
   "metadata": {},
   "outputs": [],
   "source": [
    "from sklearn.linear_model import LinearRegression\n",
    "import random"
   ]
  },
  {
   "cell_type": "code",
   "execution_count": 2,
   "id": "401a8338",
   "metadata": {},
   "outputs": [],
   "source": [
    "#Creating two empty list\n",
    "feature_set=[]\n",
    "target_set=[]"
   ]
  },
  {
   "cell_type": "code",
   "execution_count": 3,
   "id": "af113e60",
   "metadata": {},
   "outputs": [],
   "source": [
    "#Get the number of rows for the data set\n",
    "number_of_rows=200\n",
    "\n",
    "#limiting the possible values of the dataset\n",
    "random_number_limit=2000"
   ]
  },
  {
   "cell_type": "code",
   "execution_count": 4,
   "id": "57bc9a78",
   "metadata": {},
   "outputs": [],
   "source": [
    "#creating the datatset\n",
    "\n",
    "#creating the feature data set\n",
    "for i in range(0,number_of_rows):\n",
    "    x=random.randint(0,random_number_limit)\n",
    "    y=random.randint(0,random_number_limit)\n",
    "    z=random.randint(0,random_number_limit)\n",
    "    \n",
    "    #Create a linear function for target set\n",
    "    function=(10*x)+(2*y)+(3*z)\n",
    "    \n",
    "    #append the data to the lists\n",
    "    feature_set.append([x,y,z])\n",
    "    target_set.append(function)"
   ]
  },
  {
   "cell_type": "markdown",
   "id": "8f75eb60",
   "metadata": {},
   "source": [
    "### Creating the model"
   ]
  },
  {
   "cell_type": "code",
   "execution_count": 5,
   "id": "acb7c723",
   "metadata": {},
   "outputs": [],
   "source": [
    "model=LinearRegression()"
   ]
  },
  {
   "cell_type": "code",
   "execution_count": 6,
   "id": "741aae80",
   "metadata": {},
   "outputs": [
    {
     "data": {
      "text/plain": [
       "LinearRegression()"
      ]
     },
     "execution_count": 6,
     "metadata": {},
     "output_type": "execute_result"
    }
   ],
   "source": [
    "model.fit(feature_set,target_set)"
   ]
  },
  {
   "cell_type": "code",
   "execution_count": 7,
   "id": "e5c90c1b",
   "metadata": {},
   "outputs": [],
   "source": [
    "#Create the set data\n",
    "test_set=[[8,10,0]]\n",
    "prediction=model.predict(test_set)"
   ]
  },
  {
   "cell_type": "code",
   "execution_count": 8,
   "id": "55bd72be",
   "metadata": {},
   "outputs": [
    {
     "data": {
      "text/plain": [
       "array([100.])"
      ]
     },
     "execution_count": 8,
     "metadata": {},
     "output_type": "execute_result"
    }
   ],
   "source": [
    "prediction"
   ]
  },
  {
   "cell_type": "code",
   "execution_count": 9,
   "id": "7a9b00e2",
   "metadata": {},
   "outputs": [
    {
     "data": {
      "text/plain": [
       "array([10.,  2.,  3.])"
      ]
     },
     "execution_count": 9,
     "metadata": {},
     "output_type": "execute_result"
    }
   ],
   "source": [
    "model.coef_"
   ]
  },
  {
   "cell_type": "code",
   "execution_count": null,
   "id": "15c9ebe8",
   "metadata": {},
   "outputs": [],
   "source": []
  }
 ],
 "metadata": {
  "kernelspec": {
   "display_name": "Python 3 (ipykernel)",
   "language": "python",
   "name": "python3"
  },
  "language_info": {
   "codemirror_mode": {
    "name": "ipython",
    "version": 3
   },
   "file_extension": ".py",
   "mimetype": "text/x-python",
   "name": "python",
   "nbconvert_exporter": "python",
   "pygments_lexer": "ipython3",
   "version": "3.8.0"
  }
 },
 "nbformat": 4,
 "nbformat_minor": 5
}
